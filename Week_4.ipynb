{
  "nbformat": 4,
  "nbformat_minor": 0,
  "metadata": {
    "colab": {
      "name": "Week 4",
      "provenance": [],
      "collapsed_sections": [],
      "toc_visible": true
    },
    "kernelspec": {
      "name": "python3",
      "display_name": "Python 3"
    }
  },
  "cells": [
    {
      "cell_type": "markdown",
      "metadata": {
        "id": "5vf-VLMlWMyx"
      },
      "source": [
        "# Week 4\n",
        "This week, we will be building a random forest to convert handwriting to text."
      ]
    },
    {
      "cell_type": "code",
      "metadata": {
        "id": "JoDE4w0JXbkZ"
      },
      "source": [
        "!pip install emnist\n",
        "!pip install opencv-python==4.0.0.21"
      ],
      "execution_count": null,
      "outputs": []
    },
    {
      "cell_type": "code",
      "metadata": {
        "id": "oTCuB93gXHhq"
      },
      "source": [
        "import utils as ut\n",
        "import cv2\n",
        "from google.colab.patches import cv2_imshow"
      ],
      "execution_count": null,
      "outputs": []
    },
    {
      "cell_type": "code",
      "metadata": {
        "id": "6DCTxIUEXf0S"
      },
      "source": [
        "# Step 1 - Load Data\n",
        "X_train, X_test, y_train, y_test = # TODO"
      ],
      "execution_count": null,
      "outputs": []
    },
    {
      "cell_type": "code",
      "metadata": {
        "id": "ZzVg_FhLWYiG"
      },
      "source": [
        "from sklearn.ensemble import RandomForestClassifier\n",
        "\n",
        "# Step 2 - fit a classifier\n",
        "model = # TODO\n",
        "model.fit(# TODO)\n",
        "\n",
        "# Step 3 - print score on test data\n",
        "scores = model.score(# TODO)\n",
        "print(f\"Classification Accuracy (Test): {scores}\")"
      ],
      "execution_count": null,
      "outputs": []
    },
    {
      "cell_type": "code",
      "metadata": {
        "id": "ZPmTZj_u8pOm"
      },
      "source": [
        "# Step 4 - show image we will be testing on\n",
        "cv2_imshow(cv2.imread(\"hello_world.jpg\"))"
      ],
      "execution_count": null,
      "outputs": []
    },
    {
      "cell_type": "code",
      "metadata": {
        "id": "ib3LFn7sXGc0"
      },
      "source": [
        "letters = [\"A\", \"B\", \"C\", \"D\", \"E\", \"F\", \"G\", \"H\", \"I\", \"J\", \"K\", \"L\", \"M\", \"N\", \n",
        "           \"O\", \"P\", \"Q\", \"R\", \"S\", \"T\", \"U\", \"V\", \"W\", \"X\", \"Y\", \"Z\"]\n",
        "           \n",
        "\"\"\"\n",
        "Return text translation of provided image.\n",
        "\"\"\"\n",
        "def predict(im_path, model):\n",
        "    im = cv2.imread(im_path)\n",
        "\n",
        "    # Step 5 - remove lines\n",
        "    im = # TODO\n",
        "    copy = im.copy()\n",
        "\n",
        "    # Step 6 - get bounding boxes\n",
        "    bounding_rects = # TODO\n",
        "\n",
        "    pred = \"\"\n",
        "    for rect in bounding_rects:\n",
        "      # Step 7 - get ROI\n",
        "      roi = # TODO\n",
        "\n",
        "      # Step 8 - predict letter for ROI\n",
        "      letter_number = model.predict([roi.flatten()])[0]\n",
        "      pred += letters[letter_number - 1]\n",
        "\n",
        "      # Step 9 - draw bounding box\n",
        "      im = # TODO\n",
        "\n",
        "    cv2_imshow(im) # show bounding box image\n",
        "    \n",
        "    return pred"
      ],
      "execution_count": null,
      "outputs": []
    },
    {
      "cell_type": "code",
      "metadata": {
        "id": "8OPMOOLuZN90"
      },
      "source": [
        "# call function to predict\n",
        "predict(\"hello_world.jpg\", model)"
      ],
      "execution_count": null,
      "outputs": []
    }
  ]
}